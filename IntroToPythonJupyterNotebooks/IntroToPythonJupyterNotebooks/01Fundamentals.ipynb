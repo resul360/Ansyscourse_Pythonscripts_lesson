{
 "cells": [
  {
   "cell_type": "markdown",
   "metadata": {},
   "source": [
    "# Python Fundamentals\n",
    "\n",
    "## Questions\n",
    "\n",
    "- What basic data types can I work with in Python?\n",
    "- How can I create a new variable in Python? \n",
    "  - What is a \"_variable_\"?\n",
    "- Can I change the values associated with a variable after I create it?\n",
    "\n",
    "## Objectives\n",
    "\n",
    "- Assign values to variables\n",
    "- Work with 3 basic types of data\n",
    "  - float\n",
    "  - integer\n",
    "  - string\n",
    "- Develop understanding of the basic language features\n",
    "  - `print()`\n",
    "  - comments"
   ]
  },
  {
   "cell_type": "markdown",
   "metadata": {},
   "source": [
    "# Variables\n",
    "\n",
    "A python interpreter can be used like a calculator."
   ]
  },
  {
   "cell_type": "code",
   "execution_count": 1,
   "metadata": {
    "scrolled": true
   },
   "outputs": [
    {
     "data": {
      "text/plain": [
       "6"
      ]
     },
     "execution_count": 1,
     "metadata": {},
     "output_type": "execute_result"
    }
   ],
   "source": [
    "3 + 3"
   ]
  },
  {
   "cell_type": "code",
   "execution_count": 1,
   "metadata": {},
   "outputs": [
    {
     "data": {
      "text/plain": [
       "10"
      ]
     },
     "execution_count": 1,
     "metadata": {},
     "output_type": "execute_result"
    }
   ],
   "source": [
    "3 * 4 - 2"
   ]
  },
  {
   "cell_type": "markdown",
   "metadata": {},
   "source": [
    "To do more complicated calculations it is necessary to store values for later use. You can do this in Python using *variables*. A variable is some identifier we assign a value to, and we do this in Python using the `=` operator. We can call variables whatever we want (with some limitations). \n",
    "\n",
    "> **NOTE:**  In algebra classes at school, you may have encountered common variables with names like `x` and `y`. They were often kept short to avoid the pain of writing them out in full all the time, but we have no such limitations here! So, brevity is good, but it is better to have self-explanatory variable names where possible when programming.\n",
    "\n",
    "\n",
    "For example, to assign a value of `60` to a variable with the name `weight_kg`, we run:\n"
   ]
  },
  {
   "cell_type": "code",
   "execution_count": 2,
   "metadata": {},
   "outputs": [],
   "source": [
    "weight_kg = 60"
   ]
  },
  {
   "cell_type": "markdown",
   "metadata": {},
   "source": [
    "Once we make this assignation, we can reference the value of `60` by `weight_kg` in future code.  In layman’s terms, a variable is a name for a value."
   ]
  },
  {
   "cell_type": "code",
   "execution_count": 3,
   "metadata": {},
   "outputs": [
    {
     "data": {
      "text/plain": [
       "65"
      ]
     },
     "execution_count": 3,
     "metadata": {},
     "output_type": "execute_result"
    }
   ],
   "source": [
    "weight_kg + 5"
   ]
  },
  {
   "cell_type": "markdown",
   "metadata": {},
   "source": [
    "> **NOTE:** Variable names in Python\n",
    "> - can include letters, digits, and underscores \n",
    "> - cannot start with a digit\n",
    "> - are case sensitive.\n",
    "> \n",
    "> This means that, for example:\n",
    "> - `weight0` is a valid variable name, \n",
    "> - whereas `0weight` is not\n",
    "> - `weight` and `Weight` are different variables"
   ]
  },
  {
   "cell_type": "markdown",
   "metadata": {},
   "source": [
    "# Comments"
   ]
  },
  {
   "cell_type": "code",
   "execution_count": 4,
   "metadata": {},
   "outputs": [],
   "source": [
    "# in python everything following a '#' is a \"comment\" and is ignored when the code is executed. \n",
    "# Comments can be on the same line as executed code, or on their own separate lines.\n",
    "# Remember! Cells can have multiple lines"
   ]
  },
  {
   "cell_type": "markdown",
   "metadata": {},
   "source": [
    "# Types of data\n",
    "\n",
    "There are various types of data in python but there are three you will come across more than any others.\n",
    "\n",
    "- integer numbers\n",
    "- floating point numbers\n",
    "- strings\n",
    "\n",
    "In the previous example `weight_kg` was assigned an integer value of `60`. This is an [_integer_](https://en.wikipedia.org/wiki/Integer). Integers are all the \"whole\" positive or negative numbers, including 0. [_Floats_](https://en.wikipedia.org/wiki/Floating-point_arithmetic) or \"floating point numbers\" have decimal places, and to create a vairable with a floating point value we need to add a decimal point to the number.\n",
    "\n",
    "```python\n",
    "weight_kg = 60.0\n",
    "```\n",
    "A [_string_](https://en.wikipedia.org/wiki/String_(computer_science)) is a sequence of individual characters. To create a string, we put double `\"` or single `'` quotes around some text (or any combination of characters we want).\n",
    "\n",
    "```python\n",
    "weight_kg_text = 'weight in kilograms:'\n",
    "```\n",
    "\n",
    "You can use either double or single quotes, but you can**not** mix and match! So \n",
    "\n",
    "```python\n",
    "weight_kg_text = 'weight in kilograms:\"\n",
    "```\n",
    "won't work. You can try it for yourself if you wish!\n",
    "\n",
    "> **NOTE:**\n",
    "> You can interrogate the type of a value, or variable, in Python using the *built-in* **function** `type`.\n",
    "> E.g. \n",
    "> ```python\n",
    "> > type(weight_kg)\n",
    "> int\n",
    "> ```\n",
    "> We will cover functions later on in the course, so do not worry about this yet if it is too much!"
   ]
  },
  {
   "cell_type": "code",
   "execution_count": null,
   "metadata": {},
   "outputs": [],
   "source": [
    "weight_kg = 60.0\n",
    "weight_kg_text = 'weight in kilograms:'"
   ]
  },
  {
   "cell_type": "markdown",
   "metadata": {},
   "source": [
    "# Using Variables\n",
    "\n",
    "For this next part we introduce the concept of *functions*. They are operations of varying complexity that can be stored in variable-like objects. We will cover functions in more detail in Lesson \\#7.\n",
    "\n",
    "> **Aside on Functions:**\n",
    "> \"Functions\" are similar to variables; in that they are labels that refer to values. However, with functions, the *values* are *operations* and the operations return *values*. Functions can be defined by users (though do not worry about that yet!), and they are run on variables using parentheses. For example, suppose we have a function `my_function` which operates on the variable we created earlier `weight_kg` and returns a new weight. We can execute the function and assign the returned value to a new variable `new_weight` by doing the following. \n",
    "> \n",
    "> ```Python\n",
    "> new_weight = my_function(weight_kg)\n",
    "> # Functions don't have to return anything, however, and can just operate on things in place. This...\n",
    "> my_function(weight_kg)\n",
    "> # is also valid, and the value returned is essentially discarded.\n",
    "> ```\n",
    "> \n",
    "> The values the function operates on (that we refer to using variables) are known as *arguments*. In `my_function(weight_kg)` `weight_kg` is the argument of the function.\n",
    "> \n",
    "> Python has a multitude of built-in functions that are ready to use immediately. The most common of these we will use as a case study: `print`.\n",
    "\n",
    "\n",
    "## `print`\n",
    "\n",
    "In Jupyter notebooks (like this one) you have seen that running a cell with a lone variable at the end outputs the value of that variable to the screen. This is only common in interactive python interpreters. If you are using an IDE (Integrated Development Environment), like PyCharm or Spyder, then you typically do not get standard outputs like this. To output values of variables to the screen in those, you need to use the `print` function. This \"prints\" the arguments of the function to the screen/console window.\n",
    "\n",
    "```Python\n",
    "# print the weight_kg variable to screen\n",
    "print(weight_kg)\n",
    "# print the weight_kg_text variable\n",
    "print(weight_kg_text)\n",
    "```\n"
   ]
  },
  {
   "cell_type": "code",
   "execution_count": null,
   "metadata": {},
   "outputs": [],
   "source": [
    "# print the weight_kg variable to screen\n",
    "print(weight_kg)\n",
    "# print the weight_kg_text variable\n",
    "print(weight_kg_text)"
   ]
  },
  {
   "cell_type": "markdown",
   "metadata": {},
   "source": [
    "But the `print` statement can also take multiple arguments and it will print them consecutively on the same line! To give multiple arguments at once to the function we separate them with commas.\n",
    "```Python\n",
    "print('argument 1', 'argument 2')\n",
    "```"
   ]
  },
  {
   "cell_type": "code",
   "execution_count": null,
   "metadata": {},
   "outputs": [],
   "source": [
    "print('argument 1', 'argument 2')\n",
    "# We can use this to combine the two variables from the previous exercise into a useful print statement\n",
    "print(weight_kg_text, weight_kg)\n",
    "# We can also go the opposite way and provide 0 arguments, which just prints a blank line\n",
    "print()\n",
    "print('newline')"
   ]
  },
  {
   "cell_type": "markdown",
   "metadata": {},
   "source": [
    "# Editing Variables\n",
    "\n",
    "Variables can be edited after creation simply by assigning them again. This can happen any number of times. For example,\n",
    "\n",
    "```Python\n",
    "# Trailing zeros are not needed after a decimal point in python. 60. is equaivalent to 60.0 and 60.00 etc.\n",
    "weight_kg = 60.\n",
    "weight_kg = 62.\n",
    "```\n",
    "\n",
    "Whenever we perform an operation, unless we assign the value it returns to a variable, the variables involved are not affected.\n",
    "\n",
    "```Python\n",
    "weight_lb = weight_kg * 2.2\n",
    "```\n",
    "\n",
    "In the above command, the `weight_kg` variable is multiplied by 2.2 and assigned to a new variable `weight_lb`. `weight_kg` does not change because we have not assigned anything to it using `=`.\n",
    "\n",
    "Finally, you may have noticed we can both use a variable and assign it in the same command. What do you think will happen? Suppose instead of a new variable, we made a mistake typing out the above command and instead wrote this.\n",
    "\n",
    "```Python\n",
    "weight_kg = weight_kg * 2.2\n",
    "```\n",
    "\n",
    "What would happen? In Python the operation on the right is performed first and the result is assigned to the variable on the right. So, in this case, 62 is multiplied by 2.2 and then the result is assigned to the `weight_kg` variable. Try this out below!"
   ]
  },
  {
   "cell_type": "code",
   "execution_count": null,
   "metadata": {},
   "outputs": [],
   "source": [
    "print(weight_kg)\n",
    "weight_kg = weight_kg * 2.2\n",
    "print(weight_kg)\n",
    "# this kind of statement may seem unusual now but is common in programming!"
   ]
  },
  {
   "cell_type": "markdown",
   "metadata": {},
   "source": [
    "> ### Note on Exercises in the Live Version of this Course\n",
    "> In many of the lessons far more exercises are included than can be finished in the time provided. You are not expected to do them all! Exercises marked with a **\"\\*\"** are intended to be completed within the class, and the remaining exercises can be completed at your leisure, if you choose to. Although if you do finish the mandatory exercises with time to spare, you should move onto the others. Exercises are approximately ordered by difficulty and grouped by subject. Starred exercises should be attempted in numerically ascending order."
   ]
  },
  {
   "cell_type": "markdown",
   "metadata": {},
   "source": [
    "# Exercise 1*\n",
    "\n",
    "Create 3 variables. One must contain the sum of the numbers 1, 2, 3, 4, 5. One must contain half this value. The final must state which number exercise this is in a string (e.g. if it were exercise 10, then the string should be `'ten'`). \n"
   ]
  },
  {
   "cell_type": "code",
   "execution_count": 1,
   "metadata": {},
   "outputs": [],
   "source": [
    "# Enter your solution here"
   ]
  },
  {
   "cell_type": "markdown",
   "metadata": {},
   "source": [
    "# Exercise 2*\n",
    "\n",
    "Check your understanding. At the end of each of the following lines of code, what are the values of the variables `mass` and `age`? Execute each line yourself, to test your answer.\n",
    "\n",
    "```Python\n",
    "mass = 47.5\n",
    "age = 122\n",
    "mass = mass * 2.0\n",
    "age = age - 20\n",
    "```\n"
   ]
  },
  {
   "cell_type": "code",
   "execution_count": null,
   "metadata": {},
   "outputs": [],
   "source": [
    "# Enter your solution here"
   ]
  },
  {
   "cell_type": "markdown",
   "metadata": {},
   "source": [
    "# Exercise 3\n",
    "\n",
    "[countdown numbers-round](https://en.wikipedia.org/wiki/Countdown_(game_show))-style, achieve the target number:\n",
    "\n",
    "**458**\n",
    "\n",
    "using the following numbers. Each can only be used once, but they do not *have* to be used.\n",
    "\n",
    "50, 8, 8, 75, 1, 10\n",
    "\n",
    "and the following operators, which can be used as many times as you like. Every time you perform a calculation, store the result in the same variable called `result`.\n",
    "\n",
    "- addition: `+`\n",
    "- subtraction: `-`\n",
    "- multiplication: `*`\n",
    "- division: `/`\n",
    "\n",
    "In countdown you aren't supposed to use powers, but I've included it here for posterity.\n",
    "\n",
    "- power: `**` *(Note: it is not `^`, which you may have expected!)*\n",
    "\n",
    "Cells can also be edited and re-run multiple times."
   ]
  },
  {
   "cell_type": "code",
   "execution_count": null,
   "metadata": {},
   "outputs": [],
   "source": [
    "result = 0\n",
    "# Enter your solution here using the result\n",
    "# The below is one example; there are multiple ways to do this!\n",
    "# It is up to you to think of another\n",
    "result = 50 * 8\n",
    "result = result + 75\n",
    "result = result - (8 + 10)\n",
    "result = result + 1\n",
    "result\n",
    "\n"
   ]
  },
  {
   "cell_type": "markdown",
   "metadata": {},
   "source": [
    "# Exercise 4*\n",
    "\n",
    "For this exercise you should know that commas are *the* separator in Python and crop up all over the place!\n",
    "\n",
    "What does the following program print out? Have a think about why.\n",
    "\n",
    "```Python\n",
    "first, second = 'Grace', 'Hopper'\n",
    "third, fourth = second, first\n",
    "print(third, fourth)\n",
    "```\n"
   ]
  },
  {
   "cell_type": "code",
   "execution_count": null,
   "metadata": {},
   "outputs": [],
   "source": []
  },
  {
   "cell_type": "markdown",
   "metadata": {},
   "source": [
    "# Key Points\n",
    "\n",
    "- Basic data types in Python include integers, strings, and floating-point numbers.\n",
    "\n",
    "- Use variable `=` value to assign a value to a variable in order to record it in memory.\n",
    "\n",
    "- Variables are created on demand whenever a value is assigned to them.\n",
    "\n",
    "- Use `print(something)` to display the value of something."
   ]
  },
  {
   "cell_type": "markdown",
   "metadata": {},
   "source": [
    "This work is derived from work that is Copyright © [Software Carpentry](http://software-carpentry.org/), under the CC-by [license](https://creativecommons.org/licenses/by/4.0/). The text has been paraphrased partially in some locations, with some additional exercises and images included, but the vast majority of the content is derived from the Software Carpentry lesson."
   ]
  },
  {
   "cell_type": "code",
   "execution_count": null,
   "metadata": {},
   "outputs": [],
   "source": []
  }
 ],
 "metadata": {
  "kernelspec": {
   "display_name": "Python 3 (ipykernel)",
   "language": "python",
   "name": "python3"
  },
  "language_info": {
   "codemirror_mode": {
    "name": "ipython",
    "version": 3
   },
   "file_extension": ".py",
   "mimetype": "text/x-python",
   "name": "python",
   "nbconvert_exporter": "python",
   "pygments_lexer": "ipython3",
   "version": "3.9.6"
  }
 },
 "nbformat": 4,
 "nbformat_minor": 4
}
