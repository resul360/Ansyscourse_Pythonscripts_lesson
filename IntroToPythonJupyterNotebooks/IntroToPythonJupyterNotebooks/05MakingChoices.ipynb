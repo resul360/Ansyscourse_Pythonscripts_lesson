{
 "cells": [
  {
   "cell_type": "markdown",
   "metadata": {},
   "source": [
    "# Making Choices\n",
    "\n",
    "## Questions\n",
    "\n",
    "- How can my programs do different things based on data values?\n",
    "\n",
    "## Objectives\n",
    "\n",
    "- Understand \"expressions\" and booleans.\n",
    "\n",
    "- Write conditional statements including `if`, `elif`, and `else` branches.\n",
    "\n",
    "- Correctly evaluate expressions containing `and` and `or`.\n",
    "\n",
    "- Understand \"boolean indexing\" with regard to numpy arrays.\n",
    "\n",
    "Back in Lesson 2 we began examining radiance experimental & simulation data, but had to leave off our analysis because we didn't know enough. We're now ready to take the next steps. In order to compare the two datasets, we need to take a slice through the middle of our simulation data, turning 3D data into 2D data.\n",
    "\n",
    "This is easy to do with numpy, but first we need to understand a couple of key concepts.\n",
    "\n",
    "# Boolean Expressions\n",
    "\n",
    "`True` and `False` are special words in Python called *booleans*, which represent truth values. A statement such as \n",
    "\n",
    "1 < 0 \n",
    "\n",
    "returns the value `False`, while \n",
    "\n",
    "-1 < 0 \n",
    "\n",
    "returns the value `True` (note that the capitalization is important!).\n",
    "\n",
    "These are \"Boolean Expressions\"."
   ]
  },
  {
   "cell_type": "code",
   "execution_count": 6,
   "metadata": {},
   "outputs": [
    {
     "name": "stdout",
     "output_type": "stream",
     "text": [
      "False\n",
      "True\n",
      "<class 'bool'>\n"
     ]
    },
    {
     "data": {
      "text/plain": [
       "True"
      ]
     },
     "execution_count": 6,
     "metadata": {},
     "output_type": "execute_result"
    }
   ],
   "source": [
    "print(10 < 5)\n",
    "print(10 > 5)\n",
    "print(type(10 > 5))\n",
    "\n",
    "my_bool = (10 == 10)\n",
    "my_bool"
   ]
  },
  {
   "cell_type": "markdown",
   "metadata": {},
   "source": [
    "Bools can be assigned to variables like other types, and they are at the core of \"Conditionals\". These are statements in coding that follow different routes depending on the state of a given bool.\n",
    "\n",
    "# Conditionals\n",
    "\n",
    "We can ask Python to take different actions, depending on the condition, with an `if` statement:"
   ]
  },
  {
   "cell_type": "code",
   "execution_count": 7,
   "metadata": {},
   "outputs": [
    {
     "name": "stdout",
     "output_type": "stream",
     "text": [
      "not greater\n",
      "done\n"
     ]
    }
   ],
   "source": [
    "num = 37\n",
    "if num > 100:\n",
    "    print('greater')\n",
    "else:\n",
    "    print('not greater')\n",
    "print('done')"
   ]
  },
  {
   "cell_type": "markdown",
   "metadata": {},
   "source": [
    "The second line of this code uses the keyword `if` to tell Python that we want to make a choice. If the test that follows the `if` statement is true, the body of the `if` (i.e., the set of lines indented underneath it) is executed, and “greater” is printed. If the test is false, the body of the else is executed instead, and “not greater” is printed. Only one or the other is ever executed before continuing on with program execution to print “done”:\n",
    "\n",
    "![if flowchart](media/python-flowchart-conditional.png)\n",
    "\n",
    "Conditional statements don’t have to include an `else`. If there is not one, Python simply does nothing if the test is false:\n",
    "\n"
   ]
  },
  {
   "cell_type": "code",
   "execution_count": 8,
   "metadata": {},
   "outputs": [
    {
     "name": "stdout",
     "output_type": "stream",
     "text": [
      "before conditional...\n",
      "...after conditional\n"
     ]
    }
   ],
   "source": [
    "num = 53\n",
    "print('before conditional...')\n",
    "if num > 100:\n",
    "    print(num,' is greater than 100')\n",
    "print('...after conditional')"
   ]
  },
  {
   "cell_type": "markdown",
   "metadata": {},
   "source": [
    "We can also chain several tests together using `elif`, which is short for “else if”. The following Python code uses `elif` to print the sign of a number."
   ]
  },
  {
   "cell_type": "code",
   "execution_count": 9,
   "metadata": {},
   "outputs": [
    {
     "name": "stdout",
     "output_type": "stream",
     "text": [
      "-3 is negative\n"
     ]
    }
   ],
   "source": [
    "num = -3\n",
    "\n",
    "if num > 0:\n",
    "    print(num, 'is positive')\n",
    "elif num == 0:\n",
    "    print(num, 'is zero')\n",
    "else:\n",
    "    print(num, 'is negative')"
   ]
  },
  {
   "cell_type": "markdown",
   "metadata": {},
   "source": [
    "Note that to test for equality we use a double equals sign `==` rather than a single equals sign `=` which is used to assign values.\n",
    "\n",
    "> ## Comparing in Python\n",
    "> Along with the `>` and `==` operators we have already used for comparing values in our conditionals, there are a few more options to know about:\n",
    "> \n",
    "> - `>`: greater than\n",
    "> - `<`: less than\n",
    "> - `==`: equal to\n",
    "> - `!=`: does not equal\n",
    "> - `>=`: greater than or equal to\n",
    "> - `<=`: less than or equal to\n",
    "\n",
    "We can also combine tests using `and` and `or`. `and` is only true if both parts are true:"
   ]
  },
  {
   "cell_type": "code",
   "execution_count": 10,
   "metadata": {},
   "outputs": [
    {
     "name": "stdout",
     "output_type": "stream",
     "text": [
      "at least one part is false\n"
     ]
    }
   ],
   "source": [
    "if (1 > 0) and (-1 >= 0):\n",
    "    print('both parts are true')\n",
    "else:\n",
    "    print('at least one part is false')"
   ]
  },
  {
   "cell_type": "markdown",
   "metadata": {},
   "source": [
    "while `or` is true if at least one part is true:"
   ]
  },
  {
   "cell_type": "code",
   "execution_count": 11,
   "metadata": {},
   "outputs": [
    {
     "name": "stdout",
     "output_type": "stream",
     "text": [
      "at least one test is true\n"
     ]
    }
   ],
   "source": [
    "if (1 < 0) or (1 >= 0):\n",
    "    print('at least one test is true')"
   ]
  },
  {
   "cell_type": "markdown",
   "metadata": {},
   "source": [
    "# Bools and Numpy\n",
    "\n",
    "As we saw previously, operations on numpy arrays occur \"elementwise\". If we add a scalar value to an array that value is added to *every* element in the array and if we add two arrays together (provided they have the same shape) each corresponding element is added to the element in the other array.\n",
    "\n",
    "This is *also* true for boolean expressions."
   ]
  },
  {
   "cell_type": "code",
   "execution_count": 1,
   "metadata": {},
   "outputs": [
    {
     "name": "stdout",
     "output_type": "stream",
     "text": [
      "[0 1 2 3 4 5 6 7 8 9]\n",
      "[ True  True  True  True  True  True False False False False]\n"
     ]
    }
   ],
   "source": [
    "import numpy as np\n",
    "\n",
    "# arange is like Python's \"range\" function, except it returns a numpy array\n",
    "array = np.arange(10)\n",
    "print(array)\n",
    "boolean_array = array <= 5\n",
    "print(boolean_array)"
   ]
  },
  {
   "cell_type": "markdown",
   "metadata": {},
   "source": [
    "An expression containing a single numpy array and a scalar will evaluate the expression for each element in the array, and similarly an expression between two numpy arrays of identical shapes will evaluate the results of the expression by pairing elements in equivalent locations. This is extremely useful for performing large-scale evaluations and often negates the need to use loops at all. This is known as _vectorization_ and is an extremely useful skill to develop, but beyond the scope of this course. But this is not the only use for boolean arrays.\n",
    "\n",
    "In fact, in Python we can use boolean arrays to index other arrays, **provided they are the same shape**. If we do this:\n",
    "\n",
    "```\n",
    "array[array<=5]\n",
    "```\n",
    "\n",
    "Python returns all the elements of `array` where the boolean array `array<=5` evaluates to `True` (i.e. it returns all elements less than, or equal to, 5)."
   ]
  },
  {
   "cell_type": "code",
   "execution_count": 13,
   "metadata": {},
   "outputs": [
    {
     "data": {
      "text/plain": [
       "array([0, 1, 2, 3, 4, 5])"
      ]
     },
     "execution_count": 13,
     "metadata": {},
     "output_type": "execute_result"
    }
   ],
   "source": [
    "array[boolean_array]"
   ]
  },
  {
   "cell_type": "markdown",
   "metadata": {},
   "source": [
    "We can use this to great effect to extract a cross section from our simulation data.\n",
    "\n",
    "We need a slice through the data that cuts through the middle of the LED's luminance. This is at approximately `y = 0`. We have three arrays: x coordinates, y coordinates and luminance values. We want all the x coordinates, and luminance values which have a corresponding y value of 0 (or close to).\n",
    "\n",
    "First let's see what the closest y-value to 0 is. To do this we can use the numpy function `np.amin()` that finds the smallest value in an array and `abs()`, a built in Python function that calculates the absolute value of the argument that is provided."
   ]
  },
  {
   "cell_type": "code",
   "execution_count": 14,
   "metadata": {},
   "outputs": [
    {
     "name": "stdout",
     "output_type": "stream",
     "text": [
      "0.25\n"
     ]
    }
   ],
   "source": [
    "# load in the data as we did previously\n",
    "sim = np.loadtxt(fname='simulation01.txt', skiprows=52)\n",
    "x = sim[:, 0]\n",
    "y = sim[:, 1]\n",
    "rad = sim[:, 2]\n",
    "\n",
    "# Find the closest y-value to 0\n",
    "smallest_y = np.amin(abs(y))\n",
    "print(smallest_y)\n"
   ]
  },
  {
   "cell_type": "markdown",
   "metadata": {},
   "source": [
    "We can now use this value to extract all the values of x and the luminance which have this value."
   ]
  },
  {
   "cell_type": "code",
   "execution_count": 15,
   "metadata": {},
   "outputs": [],
   "source": [
    "x_cross_section = x[y==smallest_y]\n",
    "luminance_cross_section = rad[y==smallest_y]"
   ]
  },
  {
   "cell_type": "markdown",
   "metadata": {},
   "source": [
    "Let's plot our data, as we did previously, to make sure it's worked."
   ]
  },
  {
   "cell_type": "code",
   "execution_count": 16,
   "metadata": {},
   "outputs": [
    {
     "data": {
      "text/plain": [
       "[<matplotlib.lines.Line2D at 0x25cbc0cfee0>]"
      ]
     },
     "execution_count": 16,
     "metadata": {},
     "output_type": "execute_result"
    },
    {
     "data": {
      "image/png": "[encoded data removed]",
      "text/plain": [
       "<Figure size 432x288 with 1 Axes>"
      ]
     },
     "metadata": {
      "needs_background": "light"
     },
     "output_type": "display_data"
    }
   ],
   "source": [
    "import matplotlib.pyplot as plt\n",
    "\n",
    "plt.plot(x_cross_section, luminance_cross_section)"
   ]
  },
  {
   "cell_type": "markdown",
   "metadata": {},
   "source": [
    "Let's finish this lesson by comparing the simulation data to our experimental data."
   ]
  },
  {
   "cell_type": "code",
   "execution_count": 17,
   "metadata": {},
   "outputs": [
    {
     "data": {
      "text/plain": [
       "[<matplotlib.lines.Line2D at 0x25cbe1d4d60>]"
      ]
     },
     "execution_count": 17,
     "metadata": {},
     "output_type": "execute_result"
    },
    {
     "data": {
      "image/png": "[encoded data removed]",
      "text/plain": [
       "<Figure size 432x288 with 1 Axes>"
      ]
     },
     "metadata": {
      "needs_background": "light"
     },
     "output_type": "display_data"
    }
   ],
   "source": [
    "data = np.loadtxt(fname='experiment01.csv', delimiter=',')\n",
    "\n",
    "# Let's set the marker and linestyle to differentiate between the two\n",
    "plt.plot(x_cross_section, luminance_cross_section)\n",
    "plt.plot(data[:,0], data[:, 1], marker='+', linestyle=' ')"
   ]
  },
  {
   "cell_type": "markdown",
   "metadata": {},
   "source": [
    "The comparison looks good! We'll need to do a bit more analysis before we can be sure, however.\n",
    "\n",
    "In this way, we have asked Python to select data depending on how it fulfills a particular criterion. \n",
    "\n",
    "# Exercise 1* \n",
    "\n",
    "Consider this code:\n",
    "\n",
    "```Python\n",
    "if 4 > 3:\n",
    "    print('A')\n",
    "elif 4 == 5:\n",
    "    print('B')\n",
    "elif 4 < 5:\n",
    "    print('C')\n",
    "```\n",
    "\n",
    "Which of the following would be printed if you were to run this code? Why did you pick this answer?\n",
    "\n",
    "1. A\n",
    "2. B\n",
    "3. C\n",
    "4. B and C"
   ]
  },
  {
   "cell_type": "code",
   "execution_count": 18,
   "metadata": {},
   "outputs": [],
   "source": [
    "# Enter your solution here"
   ]
  },
  {
   "cell_type": "markdown",
   "metadata": {},
   "source": [
    "# Exercise 2* - What is Truth?\n",
    "\n",
    "`True` and `False` booleans are not the only values in Python that are true and false. In fact, any value can be used in an `if` or `elif`. After reading and running the code below, explain what the rule is for which values are considered true and which are considered false."
   ]
  },
  {
   "cell_type": "code",
   "execution_count": 19,
   "metadata": {},
   "outputs": [
    {
     "name": "stdout",
     "output_type": "stream",
     "text": [
      "word is true\n",
      "non-empty list is true\n",
      "one is true\n"
     ]
    }
   ],
   "source": [
    "if '':\n",
    "    print('empty string is true')\n",
    "if 'word':\n",
    "    print('word is true')\n",
    "if []:\n",
    "    print('empty list is true')\n",
    "if [1, 2, 3]:\n",
    "    print('non-empty list is true')\n",
    "if 0:\n",
    "    print('zero is true')\n",
    "if 1:\n",
    "    print('one is true')"
   ]
  },
  {
   "cell_type": "markdown",
   "metadata": {},
   "source": [
    "You can easily check the *Truthiness* or *Falsiness* of an object in Python with another built-in function, `bool()`. Apply it to any object, to inspect if the object is *Truthy* or *Falsy*."
   ]
  },
  {
   "cell_type": "code",
   "execution_count": 20,
   "metadata": {},
   "outputs": [],
   "source": [
    "# uncomment these one at a time and try them out!\n",
    "# bool([])\n",
    "# bool(1.0)\n",
    "# bool(0.)\n",
    "# bool('0.')"
   ]
  },
  {
   "cell_type": "markdown",
   "metadata": {},
   "source": [
    "# Exercise 3\n",
    "\n",
    "Sometimes it is useful to check whether some condition is not true. The Boolean operator `not` can do this explicitly. After reading and running the code below, write some if statements that use `not` to test the rule that you formulated in the previous challenge. For bonus points use the `bool()` function  in your answer.\n"
   ]
  },
  {
   "cell_type": "code",
   "execution_count": 21,
   "metadata": {},
   "outputs": [
    {
     "name": "stdout",
     "output_type": "stream",
     "text": [
      "empty string is not true\n",
      "not not True is true\n"
     ]
    }
   ],
   "source": [
    "if not '':\n",
    "    print('empty string is not true')\n",
    "if not 'word':\n",
    "    print('word is not true')\n",
    "if not not True:\n",
    "    print('not not True is true')"
   ]
  },
  {
   "cell_type": "markdown",
   "metadata": {},
   "source": [
    "# Exercise 4* - Casting Boolean Arrays\n",
    "\n",
    "When we feed an array of `True`s and `False`s into an array to extract the elements at the locations the `True` values correspond to, it is called \"*casting*\". In the example above we took a 1D slice through the arrays where `y == 0.25`. Below, I have created two arrays `A` and `B`. Both are 5 x 5. `A` contains random numbers. Return the values of `B` where...\n",
    "\n",
    "- `A` is less than 0\n",
    "- `A` is greater than 0\n",
    "\n",
    "What's the significance of the shape of the arrays returned?"
   ]
  },
  {
   "cell_type": "code",
   "execution_count": 2,
   "metadata": {},
   "outputs": [
    {
     "data": {
      "text/plain": [
       "(array([[ 1.62434536, -0.61175641, -0.52817175, -1.07296862,  0.86540763],\n",
       "        [-2.3015387 ,  1.74481176, -0.7612069 ,  0.3190391 , -0.24937038],\n",
       "        [ 1.46210794, -2.06014071, -0.3224172 , -0.38405435,  1.13376944],\n",
       "        [-1.09989127, -0.17242821, -0.87785842,  0.04221375,  0.58281521],\n",
       "        [-1.10061918,  1.14472371,  0.90159072,  0.50249434,  0.90085595]]),\n",
       " array([[ 0,  1,  2,  3,  4],\n",
       "        [ 5,  6,  7,  8,  9],\n",
       "        [10, 11, 12, 13, 14],\n",
       "        [15, 16, 17, 18, 19],\n",
       "        [20, 21, 22, 23, 24]]))"
      ]
     },
     "execution_count": 2,
     "metadata": {},
     "output_type": "execute_result"
    }
   ],
   "source": [
    "import numpy as np\n",
    "# numpy has a built-in random number generator. Here we use it to create a 5x5 array where elements are randomly\n",
    "# taken from the standard normal distribution (mean=0, stdev=1)\n",
    "# we first fix the random number seed so that we get the same results every time!\n",
    "np.random.seed(1)\n",
    "A = np.random.randn(5,5)\n",
    "B = np.arange(25)\n",
    "# we can reshape numpy arrays using np.reshape\n",
    "B = np.reshape(B, (5,5))\n",
    "A, B\n"
   ]
  },
  {
   "cell_type": "markdown",
   "metadata": {},
   "source": [
    "# Exercise 5 - Boolean Arrays: `and` and `or`\n",
    "\n",
    "1. Try creating a boolean array from the luminance data in simulation 1 where `y==0.25 or y==-0.25`\n",
    "\n",
    "It doesn't work! This is because `and` and `or` do not operate elementwise like other operators we've seen so far. There is an ambiguity. Are we asking if the arrays themselves are Truthy/Falsy or if their elements are individually Truthy/Falsy? This is reflected in the error you get. \n",
    "\n",
    "```\n",
    "ValueError: The truth value of an array with more than one element is ambiguous. Use a.any() or a.all()\n",
    "```\n",
    "\n",
    "> Note: This error suggests you reduce the boolean arrays to single values (e.g. if you have an array with a mix of True and False then `(y==0.25).any() => True` or if the array is True in all elements then `(y==0.25).all() => True`. See [all](https://docs.python.org/3/library/functions.html#all) and [any](https://docs.python.org/3/library/functions.html#any) for some more information on the matter. Although, in this exercise we need to do things elementwise.\n",
    "\n",
    "However, there are elementwise functions we can use for use with numpy boolean arrays. These are \n",
    "\n",
    "- `np.logical_and(array1, array2)` for `and`\n",
    "- `np.logical_or(array1, array2)` for `or`\n",
    "\n",
    "2. Recreate the array from the first part of this question using `np.logical_or`. "
   ]
  },
  {
   "cell_type": "code",
   "execution_count": 2,
   "metadata": {},
   "outputs": [
    {
     "data": {
      "text/plain": [
       "True"
      ]
     },
     "execution_count": 2,
     "metadata": {},
     "output_type": "execute_result"
    }
   ],
   "source": [
    "import numpy as np\n",
    "\n",
    "# load in the data as we did previously\n",
    "sim = np.loadtxt(fname='simulation01.txt', skiprows=52)\n",
    "x = sim[:, 0]\n",
    "y = sim[:, 1]\n",
    "rad = sim[:, 2]\n",
    "\n",
    "(y== 0.25).any() or (y == -0.25).all()\n",
    "# Enter your solution here\n"
   ]
  },
  {
   "cell_type": "markdown",
   "metadata": {},
   "source": [
    "# Exercise 6* - In-place operators\n",
    "\n",
    "Python provides in-place operators that work like this:"
   ]
  },
  {
   "cell_type": "code",
   "execution_count": 24,
   "metadata": {},
   "outputs": [
    {
     "name": "stdout",
     "output_type": "stream",
     "text": [
      "6\n"
     ]
    }
   ],
   "source": [
    "x = 1  # original value\n",
    "x += 1 # add one to x, assigning result back to x\n",
    "x *= 3 # multiply x by 3\n",
    "print(x)"
   ]
  },
  {
   "cell_type": "markdown",
   "metadata": {},
   "source": [
    "Write some code that sums the positive and negative numbers in a list separately, using in-place operators. You may need to use the `pass` statement (see below). Do you think the result is more or less readable than writing the same without in-place operators? "
   ]
  },
  {
   "cell_type": "markdown",
   "metadata": {},
   "source": [
    "> ## The `pass` statement \n",
    "> You may wish to use the built-in *statement* `pass`. This tells Python to do nothing and is especially useful when you want nothing to happen but leaving the code blank is a syntax error.\n",
    "> \n",
    "> For example:\n",
    "> \n",
    "> ```Python\n",
    "> for i in range(10):\n",
    ">     \n",
    "> ```\n",
    "> \n",
    "> is a syntax error. BUT, \n",
    "> \n",
    "> ```Python\n",
    "> for i in range(10):\n",
    ">     pass\n",
    "> ```\n",
    "> \n",
    "> is perfectly valid. You will rarely pass all iterations on a loop, however. Suppose you wanted to check the truthiness of each number and return it if it was `True`. You could use the `pass` statement like so.\n",
    "> \n",
    "> ```Python\n",
    "> for i in range(10):\n",
    ">     if bool(i):\n",
    ">         print(i)\n",
    ">     else:\n",
    ">         pass\n",
    "> ```"
   ]
  },
  {
   "cell_type": "code",
   "execution_count": 25,
   "metadata": {},
   "outputs": [],
   "source": [
    "positive_sum = 0\n",
    "negative_sum = 0\n",
    "test_list = [3, 4, 6, 1, -1, -5, 0, 7, -8]\n",
    "# Enter your solution here"
   ]
  },
  {
   "cell_type": "markdown",
   "metadata": {},
   "source": [
    "# Key Points\n",
    "\n",
    "- Use `if` condition to start a conditional statement, `elif` condition to provide additional tests, and `else` to provide a default.\n",
    "\n",
    "- The bodies of the branches of conditional statements must be indented.\n",
    "\n",
    "- Use `==` to test for equality.\n",
    "\n",
    "- `X and Y` is only true if both `X` and `Y` are `True`.\n",
    "\n",
    "- `X or Y` is true if either `X` or `Y`, or both, are `True`.\n",
    "\n",
    "- Zero, the empty string, and the empty list are considered false; all other numbers, strings, and lists are considered true.\n",
    "\n",
    "- `True` and `False` represent truth values."
   ]
  },
  {
   "cell_type": "markdown",
   "metadata": {},
   "source": [
    "This work is derived from work that is Copyright © [Software Carpentry](http://software-carpentry.org/), under the CC-by [license](https://creativecommons.org/licenses/by/4.0/). The text has been paraphrased partially in some locations, with some additional exercises and images included, but the vast majority of the content is derived from the Software Carpentry lesson."
   ]
  },
  {
   "cell_type": "code",
   "execution_count": null,
   "metadata": {},
   "outputs": [],
   "source": []
  }
 ],
 "metadata": {
  "kernelspec": {
   "display_name": "Python 3 (ipykernel)",
   "language": "python",
   "name": "python3"
  },
  "language_info": {
   "codemirror_mode": {
    "name": "ipython",
    "version": 3
   },
   "file_extension": ".py",
   "mimetype": "text/x-python",
   "name": "python",
   "nbconvert_exporter": "python",
   "pygments_lexer": "ipython3",
   "version": "3.9.6"
  }
 },
 "nbformat": 4,
 "nbformat_minor": 4
}
